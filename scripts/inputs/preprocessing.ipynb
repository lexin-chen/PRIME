{
 "cells": [
  {
   "cell_type": "markdown",
   "metadata": {},
   "source": [
    "# Preprocessing of the Molecular Dynamics Trajectories"
   ]
  },
  {
   "cell_type": "markdown",
   "metadata": {},
   "source": [
    "#### Imports\n",
    "* [numpy](https://numpy.org/) for manipulating and saving arrays.\n",
    "* `gen_traj_numpy` for using the [MDAnalysis](https://www.mdanalysis.org/) library to read the trajectories and save them as numpy arrays.\n",
    "* `normalize_files` for normalizing the trajectories\n",
    "* `align_traj` for aligning the trajectories"
   ]
  },
  {
   "cell_type": "code",
   "execution_count": 1,
   "metadata": {},
   "outputs": [],
   "source": [
    "import numpy as np\n",
    "import sys\n",
    "sys.path.insert(0, '../../')\n",
    "from modules.inputs.preprocess import gen_traj_numpy"
   ]
  },
  {
   "cell_type": "markdown",
   "metadata": {},
   "source": [
    "#### Inputs\n",
    "* `input_top` is the path to the topology file. Check [here](https://userguide.mdanalysis.org/1.0.0/formats/index.html) for all accepted formats.\n",
    "* `input_traj` is the path to the trajectory file. Check [here](https://userguide.mdanalysis.org/1.0.0/formats/index.html) for all accepted formats.\n",
    "    * **Note**: The trajectory file should be already aligned and centered beforehand if needed!\n",
    "* `output_name` is the name of the output file. The output file will be saved as `{output_name}.npy` for faster loading in the future.\n",
    "* `atomSelection` is the atom selection used for clustering that must be compatible with the [MDAnalysis Atom Selections Language](https://userguide.mdanalysis.org/stable/selections.html).\n",
    "\n",
    "`gen_traj_numpy` will convert the trajectory to a numpy array with the shape (n_frames, n_atoms $\\times$ 3) for comparison purposes.\n",
    "`normalize_file` will normalize trajectory between $[0, 1]$ to be compatible with extended similarity indices."
   ]
  },
  {
   "cell_type": "code",
   "execution_count": 4,
   "metadata": {},
   "outputs": [
    {
     "name": "stdout",
     "output_type": "stream",
     "text": [
      "Number of atoms in trajectory: 217\n",
      "Number of frames in trajectory: 6001\n",
      "Number of atoms in selection: 50\n"
     ]
    }
   ],
   "source": [
    "input_top = '../../example/aligned_tau.pdb'\n",
    "input_traj = '../../example/aligned_1000_tau.dcd'\n",
    "output_base_name = '../../example/aligned_tau'\n",
    "atomSelection = 'resid 3 to 12 and name N CA C O H'\n",
    "\n",
    "traj_numpy = gen_traj_numpy(input_top, input_traj, atomSelection)"
   ]
  },
  {
   "cell_type": "markdown",
   "metadata": {},
   "source": [
    "#### Outputs\n",
    "The output is a numpy array of shape (n_frames, n_atoms $\\times$ 3)."
   ]
  },
  {
   "cell_type": "code",
   "execution_count": 5,
   "metadata": {},
   "outputs": [],
   "source": [
    "output_name = output_base_name + '.npy'\n",
    "np.save(output_name, traj_numpy)"
   ]
  }
 ],
 "metadata": {
  "kernelspec": {
   "display_name": "westpa-2022.02",
   "language": "python",
   "name": "python3"
  },
  "language_info": {
   "codemirror_mode": {
    "name": "ipython",
    "version": 3
   },
   "file_extension": ".py",
   "mimetype": "text/x-python",
   "name": "python",
   "nbconvert_exporter": "python",
   "pygments_lexer": "ipython3",
   "version": "3.10.11"
  },
  "orig_nbformat": 4
 },
 "nbformat": 4,
 "nbformat_minor": 2
}
